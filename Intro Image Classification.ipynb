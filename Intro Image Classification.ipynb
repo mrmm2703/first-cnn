{
  "nbformat": 4,
  "nbformat_minor": 0,
  "metadata": {
    "colab": {
      "name": "Intro Image Classification",
      "provenance": [],
      "collapsed_sections": [],
      "toc_visible": true,
      "authorship_tag": "ABX9TyNoOUK7kFn55Eq9/QPZmewJ",
      "include_colab_link": true
    },
    "kernelspec": {
      "name": "python3",
      "display_name": "Python 3"
    }
  },
  "cells": [
    {
      "cell_type": "markdown",
      "metadata": {
        "id": "view-in-github",
        "colab_type": "text"
      },
      "source": [
        "<a href=\"https://colab.research.google.com/github/mrmm2703/first-cnn/blob/master/Intro%20Image%20Classification.ipynb\" target=\"_parent\"><img src=\"https://colab.research.google.com/assets/colab-badge.svg\" alt=\"Open In Colab\"/></a>"
      ]
    },
    {
      "cell_type": "markdown",
      "metadata": {
        "id": "TfJZtYqLXlGX",
        "colab_type": "text"
      },
      "source": [
        "Done with the help of [Basic classification: Classify images of clothing](https://www.tensorflow.org/tutorials/keras/classification)"
      ]
    },
    {
      "cell_type": "markdown",
      "metadata": {
        "id": "b7CIQphnDm7k",
        "colab_type": "text"
      },
      "source": [
        "# Importing the modules"
      ]
    },
    {
      "cell_type": "markdown",
      "metadata": {
        "id": "q3WLjqQsD-Fr",
        "colab_type": "text"
      },
      "source": [
        "First thing to do is to import the modules needed to build the image classification model.\n",
        "\n",
        "\n",
        "*   TensorFlow (of course)\n",
        "*   TensorFlow.keras for a high-level API to interact with TensorFlow (for models single inputs and outputs)\n",
        "*   Numpy for the data structures\n",
        "*   Matplotlib.Pyplot for visualising the data\n",
        "\n"
      ]
    },
    {
      "cell_type": "code",
      "metadata": {
        "id": "UTWKG6PwDrKm",
        "colab_type": "code",
        "colab": {}
      },
      "source": [
        "# Import TensorFlow and TensorFlow.keras\n",
        "import tensorflow as tf\n",
        "from tensorflow import keras\n",
        "\n",
        "# Import numpy and matplotlib for visualiations and data manipulation\n",
        "import numpy as np\n",
        "import matplotlib.pyplot as plt"
      ],
      "execution_count": null,
      "outputs": []
    },
    {
      "cell_type": "markdown",
      "metadata": {
        "id": "KhzIglk0RA2a",
        "colab_type": "text"
      },
      "source": [
        "# Preparing the data"
      ]
    },
    {
      "cell_type": "markdown",
      "metadata": {
        "id": "kIWSdiGSEz1r",
        "colab_type": "text"
      },
      "source": [
        "## Import the dataset"
      ]
    },
    {
      "cell_type": "markdown",
      "metadata": {
        "id": "2RXpwexHE26k",
        "colab_type": "text"
      },
      "source": [
        "For this image classification model, we're going to be using the Fashion MNIST dataset which is included in the keras datasets. It has 60,000 training images and 10,000 testing images. Each image is a grayscale 28x28 image, with pixel values ranging from 0-255 to represent the colour.\n",
        "\n",
        "The Fashion MNIST dataset can be directly imported from keras."
      ]
    },
    {
      "cell_type": "code",
      "metadata": {
        "id": "ac0DbHNfFssN",
        "colab_type": "code",
        "colab": {}
      },
      "source": [
        "fashion_mnist = keras.datasets.fashion_mnist"
      ],
      "execution_count": null,
      "outputs": []
    },
    {
      "cell_type": "markdown",
      "metadata": {
        "id": "M-ieNYitF1sV",
        "colab_type": "text"
      },
      "source": [
        "Then we load the data from the dataset. This returns 4 arrays, which hold the training images and labels and the testing images and labels.\n",
        "\n"
      ]
    },
    {
      "cell_type": "code",
      "metadata": {
        "id": "ZmDALTUvGH1u",
        "colab_type": "code",
        "colab": {}
      },
      "source": [
        "(train_images, train_labels), (test_images, test_labels) = fashion_mnist.load_data()"
      ],
      "execution_count": null,
      "outputs": []
    },
    {
      "cell_type": "markdown",
      "metadata": {
        "id": "1fcMxmonGXtE",
        "colab_type": "text"
      },
      "source": [
        "Now we have to make sure that the data labels are imported properly. Right now, the labels are an integer value which range from 0-9, so we can create a list of strings which correspond to the labels inside the dataset."
      ]
    },
    {
      "cell_type": "code",
      "metadata": {
        "id": "H5uaxJvUGnFV",
        "colab_type": "code",
        "colab": {}
      },
      "source": [
        "class_names = [\"T-shirt/Top\", \"Trouser\", \"Pullover\", \"Dress\", \"Coat\", \"Sandal\", \"Shirt\", \"Sneaker\", \"Bag\", \"Ankle Boot\"]"
      ],
      "execution_count": null,
      "outputs": []
    },
    {
      "cell_type": "markdown",
      "metadata": {
        "id": "coiCOKuvG1k3",
        "colab_type": "text"
      },
      "source": [
        "## Explore the data"
      ]
    },
    {
      "cell_type": "markdown",
      "metadata": {
        "id": "ApzDxILxG6SH",
        "colab_type": "text"
      },
      "source": [
        "We can check the shape of the dataset to find out the number of training images and the sizes of them."
      ]
    },
    {
      "cell_type": "code",
      "metadata": {
        "id": "hxWoUTBxHB8e",
        "colab_type": "code",
        "colab": {
          "base_uri": "https://localhost:8080/",
          "height": 34
        },
        "outputId": "df1f7f20-af8f-4fc7-9d63-90221b25ecff"
      },
      "source": [
        "train_images.shape"
      ],
      "execution_count": null,
      "outputs": [
        {
          "output_type": "execute_result",
          "data": {
            "text/plain": [
              "(60000, 28, 28)"
            ]
          },
          "metadata": {
            "tags": []
          },
          "execution_count": 68
        }
      ]
    },
    {
      "cell_type": "markdown",
      "metadata": {
        "id": "Xxb_V9D9HDnt",
        "colab_type": "text"
      },
      "source": [
        "This tells us there are 60,000 images, each of size 28x28 pixels. We can also use the len funcion to find out the length of the labels list."
      ]
    },
    {
      "cell_type": "code",
      "metadata": {
        "id": "Gn0kD4G4HNea",
        "colab_type": "code",
        "colab": {
          "base_uri": "https://localhost:8080/",
          "height": 34
        },
        "outputId": "9cd9f890-a0ff-4ec7-e09e-e664a9856bbf"
      },
      "source": [
        "len(train_labels)"
      ],
      "execution_count": null,
      "outputs": [
        {
          "output_type": "execute_result",
          "data": {
            "text/plain": [
              "60000"
            ]
          },
          "metadata": {
            "tags": []
          },
          "execution_count": 69
        }
      ]
    },
    {
      "cell_type": "markdown",
      "metadata": {
        "id": "4y3o0pSZHTif",
        "colab_type": "text"
      },
      "source": [
        "We can also see that each label is an integer between 0 and 9:"
      ]
    },
    {
      "cell_type": "code",
      "metadata": {
        "id": "lixd2kS_HZKr",
        "colab_type": "code",
        "colab": {
          "base_uri": "https://localhost:8080/",
          "height": 54
        },
        "outputId": "c320d9b6-bc6b-47c3-b9ba-13cc27dd4a7e"
      },
      "source": [
        "train_labels"
      ],
      "execution_count": null,
      "outputs": [
        {
          "output_type": "execute_result",
          "data": {
            "text/plain": [
              "array([9, 0, 0, ..., 3, 0, 5], dtype=uint8)"
            ]
          },
          "metadata": {
            "tags": []
          },
          "execution_count": 70
        }
      ]
    },
    {
      "cell_type": "markdown",
      "metadata": {
        "id": "cnfvDyNcHal3",
        "colab_type": "text"
      },
      "source": [
        "There are 10,000 28x28 images in the test dataset:"
      ]
    },
    {
      "cell_type": "code",
      "metadata": {
        "id": "tgNWMdM4HfOg",
        "colab_type": "code",
        "colab": {
          "base_uri": "https://localhost:8080/",
          "height": 34
        },
        "outputId": "235fbc3f-a322-45a1-def0-49bff0f821b0"
      },
      "source": [
        "test_images.shape"
      ],
      "execution_count": null,
      "outputs": [
        {
          "output_type": "execute_result",
          "data": {
            "text/plain": [
              "(10000, 28, 28)"
            ]
          },
          "metadata": {
            "tags": []
          },
          "execution_count": 71
        }
      ]
    },
    {
      "cell_type": "markdown",
      "metadata": {
        "id": "NoiCv0NsHjJv",
        "colab_type": "text"
      },
      "source": [
        "And there are 10,000 image labels:"
      ]
    },
    {
      "cell_type": "code",
      "metadata": {
        "id": "uXOAdZpJHqWP",
        "colab_type": "code",
        "colab": {
          "base_uri": "https://localhost:8080/",
          "height": 34
        },
        "outputId": "fd2cf14a-4bfc-426e-b6d8-f3b09ecc4d5c"
      },
      "source": [
        "len(test_labels)"
      ],
      "execution_count": null,
      "outputs": [
        {
          "output_type": "execute_result",
          "data": {
            "text/plain": [
              "10000"
            ]
          },
          "metadata": {
            "tags": []
          },
          "execution_count": 72
        }
      ]
    },
    {
      "cell_type": "markdown",
      "metadata": {
        "id": "UZf4rvIfHxyv",
        "colab_type": "text"
      },
      "source": [
        "## Preprocess the data"
      ]
    },
    {
      "cell_type": "markdown",
      "metadata": {
        "id": "3uzavP2AH0N0",
        "colab_type": "text"
      },
      "source": [
        "The data must be preprocessed before it can be used for training a model. The model right now has pixel values from 0 to 255 as we can see by using pyplot to visualise the images."
      ]
    },
    {
      "cell_type": "code",
      "metadata": {
        "id": "x3VAOA4oIBzd",
        "colab_type": "code",
        "colab": {
          "base_uri": "https://localhost:8080/",
          "height": 237
        },
        "outputId": "42dff32c-038f-4a34-a077-75d52e0b6625"
      },
      "source": [
        "plt.figure()\n",
        "plt.imshow(train_images[0])\n",
        "plt.colorbar()\n",
        "plt.grid(False)\n",
        "plt.show()"
      ],
      "execution_count": null,
      "outputs": [
        {
          "output_type": "display_data",
          "data": {
            "image/png": "[encoded data removed]",
            "text/plain": [
              "<Figure size 432x288 with 2 Axes>"
            ]
          },
          "metadata": {
            "tags": [],
            "needs_background": "light"
          }
        }
      ]
    },
    {
      "cell_type": "markdown",
      "metadata": {
        "id": "L3uxvVd1IMot",
        "colab_type": "text"
      },
      "source": [
        "We need to scale (or map) these values within a range of 0 to 1 to train our model. Our current values of 0 to 255 will not work. This needs to be done for both the training dataset and testing dataset."
      ]
    },
    {
      "cell_type": "code",
      "metadata": {
        "id": "xU8hZpACIhAd",
        "colab_type": "code",
        "colab": {}
      },
      "source": [
        "train_images = train_images / 255.0\n",
        "test_images = test_images / 255.0"
      ],
      "execution_count": null,
      "outputs": []
    },
    {
      "cell_type": "markdown",
      "metadata": {
        "id": "n461uGGkIlag",
        "colab_type": "text"
      },
      "source": [
        "Now let's check out some of the images we've preprocessed to double check that they are ready to be used in a training model. We're going to use a loop to display the first 25 images using pyplot."
      ]
    },
    {
      "cell_type": "code",
      "metadata": {
        "id": "zZaJXb73LLwh",
        "colab_type": "code",
        "colab": {
          "base_uri": "https://localhost:8080/",
          "height": 287
        },
        "outputId": "b224fce6-ffa0-47d6-d7e4-aa4573dc06e0"
      },
      "source": [
        "plt.figure(figsize=(10, 10))\n",
        "for i in range(25):\n",
        "  plt.subplot(5, 5, i+1)\n",
        "  plt.xticks([])\n",
        "  plt.yticks([])\n",
        "  plt.grid(False)\n",
        "  plt.imshow(train_images[i], cmap=plt.cm.binary)\n",
        "  plt.xlabel(class_names[train_labels[i]])\n",
        "plt.show()"
      ],
      "execution_count": null,
      "outputs": [
        {
          "output_type": "display_data",
          "data": {
            "image/png": "[encoded data removed]",
            "text/plain": [
              "<Figure size 720x720 with 25 Axes>"
            ]
          },
          "metadata": {
            "tags": []
          }
        }
      ]
    },
    {
      "cell_type": "markdown",
      "metadata": {
        "id": "4Q6tZ5lIOQLa",
        "colab_type": "text"
      },
      "source": [
        "# Build the model"
      ]
    },
    {
      "cell_type": "markdown",
      "metadata": {
        "id": "28lpXKyIPVl-",
        "colab_type": "text"
      },
      "source": [
        "## Setting up the layers"
      ]
    },
    {
      "cell_type": "markdown",
      "metadata": {
        "id": "e1tF1o9-OTLr",
        "colab_type": "text"
      },
      "source": [
        "We firstly need to make a neural network. The foundation of a neural network is the layer. These layers extract representations from the data fed into them. Here we are using [Sequential](https://www.tensorflow.org/api_docs/python/tf/keras/Sequential), which groups a linear stack of layers (which we define below) into a [keras.Model](https://www.tensorflow.org/api_docs/python/tf/keras/Model) object.\n",
        "\n",
        "Most deep learning usually consists of chaining together many simple layers. Most of these layers have parameters which are learnt during training."
      ]
    },
    {
      "cell_type": "code",
      "metadata": {
        "id": "x1pbmUJwPD08",
        "colab_type": "code",
        "colab": {}
      },
      "source": [
        "model = keras.Sequential([\n",
        "                          keras.layers.Flatten(input_shape=(28, 28)),\n",
        "                          keras.layers.Dense(128, activation=\"relu\"),\n",
        "                          keras.layers.Dense(10)\n",
        "])"
      ],
      "execution_count": null,
      "outputs": []
    },
    {
      "cell_type": "markdown",
      "metadata": {
        "id": "gOj_QkKGPbjO",
        "colab_type": "text"
      },
      "source": [
        "Here we use two different [layers](https://www.tensorflow.org/api_docs/python/tf/keras/layers). We use the `Flatten` and the `Dense` layers.\n",
        "\n",
        "\n",
        "*   [`Flatten`](https://www.tensorflow.org/api_docs/python/tf/keras/layers/Flatten): This layer transforms the image data from a two-dimensional array into a one-dimensional array. This is so we  get a single list of 784 values. There are no parameters to learn, because this first layer in the nueral network is responsible only for reformatting the data.\n",
        "*   [`Dense`](https://www.tensorflow.org/api_docs/python/tf/keras/layers/Dense): This is a regular neural network layer. We use two of these layers in the neural network. These neural layers are densely connected, or fully connected, layers. The initial `Dense` layer has 128 nodes (or neurons). The second and final layer returns a logits array with a length of 10. Each node containes a score. This score indicates which one of the 10 classes the image belongs to.\n",
        "\n"
      ]
    },
    {
      "cell_type": "markdown",
      "metadata": {
        "id": "rEv5TZlYRvVZ",
        "colab_type": "text"
      },
      "source": [
        "## Compile the model"
      ]
    },
    {
      "cell_type": "markdown",
      "metadata": {
        "id": "JG_Ri1YBRx20",
        "colab_type": "text"
      },
      "source": [
        "We need to add some more parameters to the model before the actual training itself. This is done during the compile step. We define the following parameters in the [`compile`](https://www.tensorflow.org/api_docs/python/tf/keras/Sequential#compile) function:\n",
        "\n",
        "*   [`Loss`](https://www.tensorflow.org/api_docs/python/tf/keras/losses) function: This measures how accurate a model is. We want to minimise this function to help move the model in the right direction.\n",
        "*   [`Optimizer`](https://www.tensorflow.org/api_docs/python/tf/keras/optimizers): This is how the model is updated based on the data it sees and the loss function.\n",
        "*   [`Metrics`](https://www.tensorflow.org/api_docs/python/tf/keras/metrics): This is a list of metrics/measurements the model uses to during the training and testing steps. Over here we use `accuracy`, which calculates how often the predictions equal the labels.\n",
        "\n"
      ]
    },
    {
      "cell_type": "code",
      "metadata": {
        "id": "0AcnaDVERw3X",
        "colab_type": "code",
        "colab": {}
      },
      "source": [
        "model.compile(\n",
        "    optimizer=\"adam\",\n",
        "    loss=tf.losses.SparseCategoricalCrossentropy(from_logits=True),\n",
        "    metrics=[\"accuracy\"]\n",
        ")"
      ],
      "execution_count": null,
      "outputs": []
    },
    {
      "cell_type": "markdown",
      "metadata": {
        "id": "8wNlDWhJXtf2",
        "colab_type": "text"
      },
      "source": [
        "# Train the model"
      ]
    },
    {
      "cell_type": "markdown",
      "metadata": {
        "id": "yRTgFO5kXuyx",
        "colab_type": "text"
      },
      "source": [
        "There are 4 steps to completely training a neural network model:\n",
        "\n",
        "1.   Feed the model the training data. For this project, we are going to feed the model the `train_images` and the `train_labels`\n",
        "2.   The model learns to associate images with labels\n",
        "3.   We ask the model to make predictions for us using the test data, `test_images`\n",
        "4.   Verify hat the predictions made on the `test_images` match the labels in the `test_labels`\n",
        "\n"
      ]
    },
    {
      "cell_type": "markdown",
      "metadata": {
        "id": "T8VQcz0BCiPk",
        "colab_type": "text"
      },
      "source": [
        "## Feed the model"
      ]
    },
    {
      "cell_type": "markdown",
      "metadata": {
        "id": "dayIzRnZCmyy",
        "colab_type": "text"
      },
      "source": [
        "To begin training the model, we need to call the [`model.fit`](https://www.tensorflow.org/api_docs/python/tf/keras/Model#fit) function. The loss and accuracy metrics will be displayed while the model trains itself. This particular model reaches an accuracy of 0.9098 (~91%) on the training data."
      ]
    },
    {
      "cell_type": "code",
      "metadata": {
        "id": "EVifn7sjC3oU",
        "colab_type": "code",
        "colab": {
          "base_uri": "https://localhost:8080/",
          "height": 401
        },
        "outputId": "96b33430-794b-43a1-82e3-818571182085"
      },
      "source": [
        "model.fit(train_images, train_labels, epochs=10)"
      ],
      "execution_count": null,
      "outputs": [
        {
          "output_type": "stream",
          "text": [
            "Epoch 1/10\n",
            "1875/1875 [==============================] - 4s 2ms/step - loss: 0.4989 - accuracy: 0.8245\n",
            "Epoch 2/10\n",
            "1875/1875 [==============================] - 4s 2ms/step - loss: 0.3806 - accuracy: 0.8632\n",
            "Epoch 3/10\n",
            "1875/1875 [==============================] - 4s 2ms/step - loss: 0.3418 - accuracy: 0.8759\n",
            "Epoch 4/10\n",
            "1875/1875 [==============================] - 4s 2ms/step - loss: 0.3142 - accuracy: 0.8835\n",
            "Epoch 5/10\n",
            "1875/1875 [==============================] - 4s 2ms/step - loss: 0.2960 - accuracy: 0.8904\n",
            "Epoch 6/10\n",
            "1875/1875 [==============================] - 4s 2ms/step - loss: 0.2825 - accuracy: 0.8953\n",
            "Epoch 7/10\n",
            "1875/1875 [==============================] - 4s 2ms/step - loss: 0.2687 - accuracy: 0.8996\n",
            "Epoch 8/10\n",
            "1875/1875 [==============================] - 4s 2ms/step - loss: 0.2584 - accuracy: 0.9037\n",
            "Epoch 9/10\n",
            "1875/1875 [==============================] - 4s 2ms/step - loss: 0.2488 - accuracy: 0.9069\n",
            "Epoch 10/10\n",
            "1875/1875 [==============================] - 4s 2ms/step - loss: 0.2405 - accuracy: 0.9105\n"
          ],
          "name": "stdout"
        },
        {
          "output_type": "execute_result",
          "data": {
            "text/plain": [
              "<tensorflow.python.keras.callbacks.History at 0x7fbd2f4c6c50>"
            ]
          },
          "metadata": {
            "tags": []
          },
          "execution_count": 78
        }
      ]
    },
    {
      "cell_type": "markdown",
      "metadata": {
        "id": "a9FluSI0C_TH",
        "colab_type": "text"
      },
      "source": [
        "Here we provide the `fit` function 3 parameters.\n",
        "*   `x`: The input data, which in this icase is the `train_images` array\n",
        "*   `y`: The target data. Again, in this case we are using the `train_labels` array\n",
        "*   `epochs`: This is the number of epochs to train the model with (the number of iterations over the dataset). In this case, we train the model for `10` epochs, so 10 iterations over the dataset provided."
      ]
    },
    {
      "cell_type": "markdown",
      "metadata": {
        "id": "TTDaMlwrE5HL",
        "colab_type": "text"
      },
      "source": [
        "## Evaluate accuracy"
      ]
    },
    {
      "cell_type": "markdown",
      "metadata": {
        "id": "g3-w1XchE83r",
        "colab_type": "text"
      },
      "source": [
        "Now that the model has been trained, we need to test how the model performs against our test dateset. We do this with the [`model.evaluate`](https://www.tensorflow.org/api_docs/python/tf/keras/Model#evaluate) function."
      ]
    },
    {
      "cell_type": "code",
      "metadata": {
        "id": "kTFdkDhlFD4D",
        "colab_type": "code",
        "colab": {
          "base_uri": "https://localhost:8080/",
          "height": 89
        },
        "outputId": "307fd63f-6186-45c6-84e6-4dd42a7ebf3b"
      },
      "source": [
        "test_loss, test_acc = model.evaluate(test_images, test_labels, verbose=2)\n",
        "print(\"\\nTest accuracy: \" + str(test_acc))"
      ],
      "execution_count": null,
      "outputs": [
        {
          "output_type": "stream",
          "text": [
            "313/313 - 0s - loss: 0.3517 - accuracy: 0.8789\n",
            "\n",
            "Test accuracy: 0.8788999915122986\n"
          ],
          "name": "stdout"
        }
      ]
    },
    {
      "cell_type": "markdown",
      "metadata": {
        "id": "IyJt90f7FZq_",
        "colab_type": "text"
      },
      "source": [
        "Here we provide the function with 3 parameters:\n",
        "*   `x`: The input data to test, in this case the `test_images` array\n",
        "*   `y`: The target data to test with, in this case the `test_labels` array\n",
        "*   `verbose`: The verbosity mode. `0` will be show nothing (silent). `1` will show you an animated progress bar. `2` will mention the number of epochs."
      ]
    },
    {
      "cell_type": "markdown",
      "metadata": {
        "id": "k_02ouYxGWjK",
        "colab_type": "text"
      },
      "source": [
        "Let's have a look at the accuracy of the data. The accuracy of the evauluate function was `0.8720999956130981` and the accuracy of the fit function when training the model was `0.9098`. Because the accuracy of the evalutation of accuracy was less than the actual accurarcy on the training dataset, the gap between the accuracies shows *overfitting*. This is when a model performs worse on new, unseen inputs than it does on the training data. An overfitted model \"memorises\" the noise and details in the training dataset to an extent which impacts the performance of the model on the new data. "
      ]
    },
    {
      "cell_type": "markdown",
      "metadata": {
        "id": "P9oXQwkeHXTP",
        "colab_type": "text"
      },
      "source": [
        "## Make predictions"
      ]
    },
    {
      "cell_type": "markdown",
      "metadata": {
        "id": "eTMeY_2fHZPY",
        "colab_type": "text"
      },
      "source": [
        "Now that we have a trained model, we can use this model to make some predictions about some images. The model's linear ouputs, [logits](https://developers.google.com/machine-learning/glossary#logits). Logits is the vector of raw (non-normalised) predictions that a classification model generates. This is ordinarily passed onto a normalisation function. In this case we have a multi-class classifcation modelproble, in which the logits usually become an input to the [softmax](https://developers.google.com/machine-learning/glossary#softmax) function. This generate a vector of (normalised) probabilities with one value for each possible class. This makes the output easier to interpet in multi-class classification models such as this one."
      ]
    },
    {
      "cell_type": "markdown",
      "metadata": {
        "id": "a3wFNO9PJj-3",
        "colab_type": "text"
      },
      "source": [
        "Let's begin by creating a model for the probability:"
      ]
    },
    {
      "cell_type": "code",
      "metadata": {
        "id": "XUw4TBCTJoQc",
        "colab_type": "code",
        "colab": {}
      },
      "source": [
        "probability_model = tf.keras.Sequential([model, tf.keras.layers.Softmax()])"
      ],
      "execution_count": null,
      "outputs": []
    },
    {
      "cell_type": "markdown",
      "metadata": {
        "id": "xKhMq7cBJ1JR",
        "colab_type": "text"
      },
      "source": [
        "Now let's store all the predictions that model creates in an array:"
      ]
    },
    {
      "cell_type": "code",
      "metadata": {
        "id": "pHtb4Ld8J3vO",
        "colab_type": "code",
        "colab": {}
      },
      "source": [
        "predictions = probability_model.predict(test_images)"
      ],
      "execution_count": null,
      "outputs": []
    },
    {
      "cell_type": "markdown",
      "metadata": {
        "id": "CRJUIKRcJ-AC",
        "colab_type": "text"
      },
      "source": [
        "Now we can have a look at the individual predictions for each class for each test data image. Let's take a look at the predictions for the first image in the dataset:"
      ]
    },
    {
      "cell_type": "code",
      "metadata": {
        "id": "tQBJvlKvKHLv",
        "colab_type": "code",
        "colab": {
          "base_uri": "https://localhost:8080/",
          "height": 89
        },
        "outputId": "44a49895-c8fc-425c-f75d-4f01565cf0ff"
      },
      "source": [
        "predictions[0]"
      ],
      "execution_count": null,
      "outputs": [
        {
          "output_type": "execute_result",
          "data": {
            "text/plain": [
              "array([9.3403252e-10, 1.7215708e-08, 3.4993448e-09, 3.4397495e-08,\n",
              "       5.1338750e-10, 1.6741414e-02, 3.2600286e-07, 2.9792327e-02,\n",
              "       2.1773863e-08, 9.5346588e-01], dtype=float32)"
            ]
          },
          "metadata": {
            "tags": []
          },
          "execution_count": 82
        }
      ]
    },
    {
      "cell_type": "markdown",
      "metadata": {
        "id": "yxLr7ZWvKN4f",
        "colab_type": "text"
      },
      "source": [
        "A single element from the predictions list is an array of 10 prediction values for each of the 10 classes. They show the \"confidence\" level of the model for each of the classes. Using numpy, we can see which label has the highest confidence level:"
      ]
    },
    {
      "cell_type": "code",
      "metadata": {
        "id": "1kHt7nRhKdqC",
        "colab_type": "code",
        "colab": {
          "base_uri": "https://localhost:8080/",
          "height": 34
        },
        "outputId": "8c68e81b-1942-4fa8-fb93-3e03470074ab"
      },
      "source": [
        "np.argmax(predictions[0])"
      ],
      "execution_count": null,
      "outputs": [
        {
          "output_type": "execute_result",
          "data": {
            "text/plain": [
              "9"
            ]
          },
          "metadata": {
            "tags": []
          },
          "execution_count": 83
        }
      ]
    },
    {
      "cell_type": "markdown",
      "metadata": {
        "id": "HmHnSt8aKhMm",
        "colab_type": "text"
      },
      "source": [
        "This means that the model is confident that this image is the 9th class, which is an ankle boot. We can check this against the known value for this image by having a look at the `test_labels` list at the same index."
      ]
    },
    {
      "cell_type": "code",
      "metadata": {
        "id": "PX4d-hbUKvJ3",
        "colab_type": "code",
        "colab": {
          "base_uri": "https://localhost:8080/",
          "height": 34
        },
        "outputId": "9383b777-248a-4a5d-b481-aca2205af979"
      },
      "source": [
        "test_labels[0]"
      ],
      "execution_count": null,
      "outputs": [
        {
          "output_type": "execute_result",
          "data": {
            "text/plain": [
              "9"
            ]
          },
          "metadata": {
            "tags": []
          },
          "execution_count": 84
        }
      ]
    },
    {
      "cell_type": "markdown",
      "metadata": {
        "id": "9lGoN2rWK8n_",
        "colab_type": "text"
      },
      "source": [
        "As we can see, the model has correctly identified that the image is of class 9, which is an ankle boot. "
      ]
    },
    {
      "cell_type": "markdown",
      "metadata": {
        "id": "1-cecFNULgDj",
        "colab_type": "text"
      },
      "source": [
        "## Verify predictions"
      ]
    },
    {
      "cell_type": "markdown",
      "metadata": {
        "id": "s2LmX262LikE",
        "colab_type": "text"
      },
      "source": [
        "Let's start by creating a couple of functions which uses pyplot to show the plot the images and their labels."
      ]
    },
    {
      "cell_type": "code",
      "metadata": {
        "id": "mLAV3-TYLoJ4",
        "colab_type": "code",
        "colab": {}
      },
      "source": [
        "def plot_image(i, predictions_array, true_label, img):\n",
        "  predictions_array, true_label, img = predictions_array, true_label[i], img[i]\n",
        "  plt.grid(False)\n",
        "  plt.xticks([])\n",
        "  plt.yticks([])\n",
        "\n",
        "  plt.imshow(img, cmap=plt.cm.binary)\n",
        "\n",
        "  predicted_label = np.argmax(predictions_array)\n",
        "  if predicted_label == true_label:\n",
        "    color = \"green\"\n",
        "  else:\n",
        "    color = \"red\"\n",
        "\n",
        "  plt.xlabel(\"{} {:2.0f}% ({})\".format(class_names[predicted_label],\n",
        "                                100*np.max(predictions_array),\n",
        "                                class_names[true_label]),\n",
        "                                color=color)\n",
        "  \n",
        "def plot_value_array(i, predictions_array, true_label):\n",
        "  predictions_array, true_label = predictions_array, true_label[i]\n",
        "  plt.grid(False)\n",
        "  plt.xticks(range(10))\n",
        "  plt.yticks([])\n",
        "  thisplot = plt.bar(range(10), predictions_array, color=\"#777777\")\n",
        "  plt.ylim([0, 1])\n",
        "  predicted_label = np.argmax(predictions_array)\n",
        "\n",
        "  thisplot[predicted_label].set_color(\"red\")\n",
        "  thisplot[true_label].set_color(\"green\")"
      ],
      "execution_count": null,
      "outputs": []
    },
    {
      "cell_type": "markdown",
      "metadata": {
        "id": "9ekS2HdeNwLh",
        "colab_type": "text"
      },
      "source": [
        "Now let's begin creating some predictions based on our test data. We will use the previous two functions we defined with pyplot for this."
      ]
    },
    {
      "cell_type": "code",
      "metadata": {
        "id": "aab9ilcEN15i",
        "colab_type": "code",
        "colab": {
          "base_uri": "https://localhost:8080/",
          "height": 166
        },
        "outputId": "f1b24836-c679-4363-c061-947d7dd7bec2"
      },
      "source": [
        "i = 0\n",
        "\n",
        "plt.figure(figsize=(6,3))\n",
        "plt.subplot(1,2,1)\n",
        "plot_image(i, predictions[i], test_labels, test_images)\n",
        "\n",
        "plt.subplot(1,2,2)\n",
        "plot_value_array(i, predictions[i], test_labels)\n",
        "\n",
        "plt.show()"
      ],
      "execution_count": null,
      "outputs": [
        {
          "output_type": "display_data",
          "data": {
            "image/png": "[encoded data removed]",
            "text/plain": [
              "<Figure size 432x216 with 2 Axes>"
            ]
          },
          "metadata": {
            "tags": [],
            "needs_background": "light"
          }
        }
      ]
    },
    {
      "cell_type": "code",
      "metadata": {
        "id": "G2m_QE__POIJ",
        "colab_type": "code",
        "colab": {
          "base_uri": "https://localhost:8080/",
          "height": 166
        },
        "outputId": "b002ced1-bbc7-4c36-b31e-660e635e45f2"
      },
      "source": [
        "i = 15\n",
        "\n",
        "plt.figure(figsize=(6,3))\n",
        "plt.subplot(1,2,1)\n",
        "plot_image(i, predictions[i], test_labels, test_images)\n",
        "\n",
        "plt.subplot(1,2,2)\n",
        "plot_value_array(i, predictions[i], test_labels)\n",
        "\n",
        "plt.show()"
      ],
      "execution_count": null,
      "outputs": [
        {
          "output_type": "display_data",
          "data": {
            "image/png": "[encoded data removed]",
            "text/plain": [
              "<Figure size 432x216 with 2 Axes>"
            ]
          },
          "metadata": {
            "tags": [],
            "needs_background": "light"
          }
        }
      ]
    },
    {
      "cell_type": "markdown",
      "metadata": {
        "id": "Y58lECAbPti0",
        "colab_type": "text"
      },
      "source": [
        "Now let's plot several of these images with their predictions. "
      ]
    },
    {
      "cell_type": "code",
      "metadata": {
        "id": "YkPUOMpZQIrp",
        "colab_type": "code",
        "colab": {
          "base_uri": "https://localhost:8080/",
          "height": 197
        },
        "outputId": "9e1654dd-9d56-4bd1-9fe4-773850abab8c"
      },
      "source": [
        "num_rows = 4\n",
        "num_cols = 3\n",
        "num_img = num_rows * num_cols\n",
        "plt.figure(figsize=(2*2*num_cols, 2*num_rows))\n",
        "for i in range(num_img):\n",
        "  plt.subplot(num_rows, 2*num_cols, 2*i+1)\n",
        "  plot_image(i, predictions[i], test_labels, test_images)\n",
        "  plt.subplot(num_rows, 2*num_cols, 2*i+2)\n",
        "  plot_value_array(i, predictions[i], test_labels)\n",
        "plt.tight_layout()\n",
        "plt.show()"
      ],
      "execution_count": null,
      "outputs": [
        {
          "output_type": "display_data",
          "data": {
            "image/png": "[encoded data removed]",
            "text/plain": [
              "<Figure size 864x576 with 24 Axes>"
            ]
          },
          "metadata": {
            "tags": [],
            "needs_background": "light"
          }
        }
      ]
    },
    {
      "cell_type": "markdown",
      "metadata": {
        "id": "4LklxbfuRUWJ",
        "colab_type": "text"
      },
      "source": [
        "# Use the model"
      ]
    },
    {
      "cell_type": "markdown",
      "metadata": {
        "id": "4TNGZAmNRWZY",
        "colab_type": "text"
      },
      "source": [
        "Now that we've completely trained the model, we can test individual images to make predictions about a single image. Let's grab an image from the test dataset."
      ]
    },
    {
      "cell_type": "code",
      "metadata": {
        "id": "2xEiDcwTRfQ-",
        "colab_type": "code",
        "colab": {
          "base_uri": "https://localhost:8080/",
          "height": 34
        },
        "outputId": "ec80f4fe-803e-4ed2-fc5c-fb857f310aff"
      },
      "source": [
        "img = test_images[1]\n",
        "print(img.shape)"
      ],
      "execution_count": null,
      "outputs": [
        {
          "output_type": "stream",
          "text": [
            "(28, 28)\n"
          ],
          "name": "stdout"
        }
      ]
    },
    {
      "cell_type": "markdown",
      "metadata": {
        "id": "HzYeGqPYRswB",
        "colab_type": "text"
      },
      "source": [
        "`tf.keras` models were made to make batch predictions and therefore take in a list of input data rather to predict on rather than a single one. Therefore we need to put our single image inside a list by itself."
      ]
    },
    {
      "cell_type": "code",
      "metadata": {
        "id": "Rq6ys1W_R6kV",
        "colab_type": "code",
        "colab": {
          "base_uri": "https://localhost:8080/",
          "height": 34
        },
        "outputId": "8dd173ce-9991-4a52-8c10-ed2671f6fb9a"
      },
      "source": [
        "img = (np.expand_dims(img, 0))\n",
        "print(img.shape)"
      ],
      "execution_count": null,
      "outputs": [
        {
          "output_type": "stream",
          "text": [
            "(1, 28, 28)\n"
          ],
          "name": "stdout"
        }
      ]
    },
    {
      "cell_type": "markdown",
      "metadata": {
        "id": "8Vcul2E2SC53",
        "colab_type": "text"
      },
      "source": [
        "Now let's make a prediction about the label of this image."
      ]
    },
    {
      "cell_type": "code",
      "metadata": {
        "id": "ec5LeVkNSGuW",
        "colab_type": "code",
        "colab": {
          "base_uri": "https://localhost:8080/",
          "height": 71
        },
        "outputId": "6bd25435-81cf-4990-a133-6553171b666e"
      },
      "source": [
        "predictions_single = probability_model.predict(img)\n",
        "print(predictions_single)"
      ],
      "execution_count": null,
      "outputs": [
        {
          "output_type": "stream",
          "text": [
            "[[5.9581151e-05 1.0553704e-12 9.9613178e-01 1.0308122e-13 3.6891161e-03\n",
            "  1.1542909e-11 1.1963673e-04 5.0652720e-19 2.6786464e-11 2.0821547e-13]]\n"
          ],
          "name": "stdout"
        }
      ]
    },
    {
      "cell_type": "markdown",
      "metadata": {
        "id": "wDc7YzQzSL4L",
        "colab_type": "text"
      },
      "source": [
        "Now let's plot this data using pyplot and attach our labels to them too."
      ]
    },
    {
      "cell_type": "code",
      "metadata": {
        "id": "PTmT1g_eSO63",
        "colab_type": "code",
        "colab": {
          "base_uri": "https://localhost:8080/",
          "height": 235
        },
        "outputId": "96560709-ed75-4100-e6c5-0ae6c09d16cd"
      },
      "source": [
        "plot_value_array(1, predictions_single[0], test_labels)\n",
        "_ = plt.xticks(range(10), class_names, rotation=45)"
      ],
      "execution_count": null,
      "outputs": [
        {
          "output_type": "display_data",
          "data": {
            "image/png": "[encoded data removed]",
            "text/plain": [
              "<Figure size 432x288 with 1 Axes>"
            ]
          },
          "metadata": {
            "tags": [],
            "needs_background": "light"
          }
        }
      ]
    },
    {
      "cell_type": "markdown",
      "metadata": {
        "id": "Hh53C28TSiEt",
        "colab_type": "text"
      },
      "source": [
        "We can also use the `np.argmax` function to get the largest value inside the first index of our array."
      ]
    },
    {
      "cell_type": "code",
      "metadata": {
        "id": "H_39N2p8Spx-",
        "colab_type": "code",
        "colab": {
          "base_uri": "https://localhost:8080/",
          "height": 34
        },
        "outputId": "65286398-5323-47eb-a8eb-e96ea0a8c530"
      },
      "source": [
        "np.argmax(predictions_single[0])"
      ],
      "execution_count": null,
      "outputs": [
        {
          "output_type": "execute_result",
          "data": {
            "text/plain": [
              "2"
            ]
          },
          "metadata": {
            "tags": []
          },
          "execution_count": 93
        }
      ]
    },
    {
      "cell_type": "markdown",
      "metadata": {
        "id": "9oSOvIPbStQ7",
        "colab_type": "text"
      },
      "source": [
        "This verifies that our model predicted the correct label based on this single image."
      ]
    }
  ]
}